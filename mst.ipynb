{
 "cells": [
  {
   "cell_type": "markdown",
   "metadata": {},
   "source": [
    "## 2020春季学期运筹学(2)期末课程设计-17374463-王凯东"
   ]
  },
  {
   "cell_type": "code",
   "execution_count": 1,
   "metadata": {},
   "outputs": [],
   "source": [
    "import pandas as pd \n",
    "import numpy as np\n",
    "from collections import defaultdict\n",
    "import time"
   ]
  },
  {
   "cell_type": "code",
   "execution_count": 2,
   "metadata": {},
   "outputs": [
    {
     "output_type": "execute_result",
     "data": {
      "text/plain": "      1     2     3      4     5     6     7     8      9      10  ...     25  \\\n1    NaN  41.0   NaN    NaN  44.0   NaN  96.0   NaN    NaN    NaN  ...    NaN   \n2   41.0   NaN  39.0    NaN  48.0   NaN   NaN   NaN    NaN    NaN  ...    NaN   \n3    NaN  39.0   NaN   43.0   NaN  47.0   NaN   NaN    NaN    NaN  ...    NaN   \n4    NaN   NaN  43.0    NaN   NaN  46.0   NaN   NaN  129.0  177.0  ...    NaN   \n5   44.0  48.0   NaN    NaN   NaN  41.0  83.0  70.0    NaN    NaN  ...    NaN   \n6    NaN   NaN  47.0   46.0  41.0   NaN   NaN  82.0   99.0    NaN  ...    NaN   \n7   96.0   NaN   NaN    NaN  83.0   NaN   NaN  37.0    NaN    NaN  ...    NaN   \n8    NaN   NaN   NaN    NaN  70.0  82.0  37.0   NaN   53.0    NaN  ...    NaN   \n9    NaN   NaN   NaN  129.0   NaN  99.0   NaN  53.0    NaN   63.0  ...    NaN   \n10   NaN   NaN   NaN  177.0   NaN   NaN   NaN   NaN   63.0    NaN  ...    NaN   \n11   NaN   NaN   NaN    NaN   NaN   NaN   NaN   NaN    NaN    NaN  ...    NaN   \n12   NaN   NaN   NaN    NaN   NaN   NaN   NaN   NaN    NaN    NaN  ...    NaN   \n13   NaN   NaN   NaN    NaN   NaN   NaN  53.0   NaN    NaN    NaN  ...    NaN   \n14   NaN   NaN   NaN    NaN   NaN   NaN  50.0   NaN    NaN    NaN  ...    NaN   \n15   NaN   NaN   NaN    NaN   NaN   NaN   NaN  62.0   60.0    NaN  ...    NaN   \n16   NaN   NaN   NaN    NaN   NaN   NaN   NaN   NaN  189.0  156.0  ...    NaN   \n17   NaN   NaN   NaN    NaN   NaN   NaN   NaN   NaN    NaN  147.0  ...   73.0   \n18   NaN   NaN   NaN    NaN   NaN   NaN   NaN   NaN    NaN    NaN  ...    NaN   \n19   NaN   NaN   NaN    NaN   NaN   NaN   NaN   NaN    NaN    NaN  ...    NaN   \n20   NaN   NaN   NaN    NaN   NaN   NaN   NaN   NaN    NaN    NaN  ...    NaN   \n21   NaN   NaN   NaN    NaN   NaN   NaN   NaN   NaN    NaN    NaN  ...    NaN   \n22   NaN   NaN   NaN    NaN   NaN   NaN   NaN   NaN    NaN    NaN  ...    NaN   \n23   NaN   NaN   NaN    NaN   NaN   NaN   NaN   NaN    NaN    NaN  ...    NaN   \n24   NaN   NaN   NaN    NaN   NaN   NaN   NaN   NaN    NaN    NaN  ...   35.0   \n25   NaN   NaN   NaN    NaN   NaN   NaN   NaN   NaN    NaN    NaN  ...    NaN   \n26   NaN   NaN   NaN    NaN   NaN   NaN   NaN   NaN    NaN    NaN  ...   50.0   \n27   NaN   NaN   NaN    NaN   NaN   NaN   NaN   NaN    NaN    NaN  ...    NaN   \n28   NaN   NaN   NaN    NaN   NaN   NaN   NaN   NaN    NaN    NaN  ...    NaN   \n29   NaN   NaN   NaN    NaN   NaN   NaN   NaN   NaN    NaN    NaN  ...    NaN   \n30   NaN   NaN   NaN    NaN   NaN   NaN   NaN   NaN    NaN    NaN  ...    NaN   \n31   NaN   NaN   NaN    NaN   NaN   NaN   NaN   NaN    NaN    NaN  ...    NaN   \n32   NaN   NaN   NaN    NaN   NaN   NaN   NaN   NaN    NaN    NaN  ...    NaN   \n33   NaN   NaN   NaN    NaN   NaN   NaN   NaN   NaN    NaN    NaN  ...  103.0   \n34   NaN   NaN   NaN    NaN   NaN   NaN   NaN   NaN    NaN    NaN  ...    NaN   \n\n       26     27    28    29     30    31    32     33     34  \n1     NaN    NaN   NaN   NaN    NaN   NaN   NaN    NaN    NaN  \n2     NaN    NaN   NaN   NaN    NaN   NaN   NaN    NaN    NaN  \n3     NaN    NaN   NaN   NaN    NaN   NaN   NaN    NaN    NaN  \n4     NaN    NaN   NaN   NaN    NaN   NaN   NaN    NaN    NaN  \n5     NaN    NaN   NaN   NaN    NaN   NaN   NaN    NaN    NaN  \n6     NaN    NaN   NaN   NaN    NaN   NaN   NaN    NaN    NaN  \n7     NaN    NaN   NaN   NaN    NaN   NaN   NaN    NaN    NaN  \n8     NaN    NaN   NaN   NaN    NaN   NaN   NaN    NaN    NaN  \n9     NaN    NaN   NaN   NaN    NaN   NaN   NaN    NaN    NaN  \n10    NaN    NaN   NaN   NaN    NaN   NaN   NaN    NaN    NaN  \n11    NaN    NaN   NaN   NaN    NaN   NaN   NaN    NaN    NaN  \n12    NaN    NaN   NaN   NaN    NaN   NaN   NaN    NaN    NaN  \n13    NaN    NaN   NaN   NaN    NaN   NaN   NaN    NaN    NaN  \n14    NaN    NaN   NaN   NaN    NaN   NaN   NaN    NaN    NaN  \n15    NaN    NaN   NaN   NaN    NaN   NaN   NaN    NaN    NaN  \n16    NaN    NaN   NaN   NaN    NaN   NaN   NaN    NaN    NaN  \n17   76.0    NaN   NaN   NaN    NaN   NaN   NaN    NaN    NaN  \n18    NaN  100.0   NaN   NaN    NaN   NaN   NaN    NaN    NaN  \n19    NaN  106.0  92.0  88.0    NaN   NaN   NaN    NaN    NaN  \n20    NaN    NaN   NaN  85.0    NaN   NaN   NaN    NaN    NaN  \n21    NaN    NaN   NaN  93.0  113.0   NaN   NaN    NaN    NaN  \n22    NaN    NaN   NaN   NaN  114.0  73.0   NaN    NaN    NaN  \n23    NaN    NaN   NaN   NaN    NaN  59.0   NaN    NaN    NaN  \n24    NaN    NaN   NaN   NaN    NaN  74.0  92.0    NaN    NaN  \n25   50.0    NaN   NaN   NaN    NaN   NaN   NaN  103.0    NaN  \n26    NaN    NaN   NaN   NaN    NaN   NaN   NaN    NaN  102.0  \n27    NaN    NaN  50.0   NaN    NaN   NaN   NaN    NaN    NaN  \n28    NaN   50.0   NaN  41.0    NaN   NaN   NaN    NaN    NaN  \n29    NaN    NaN  41.0   NaN   56.0   NaN   NaN    NaN    NaN  \n30    NaN    NaN   NaN  56.0    NaN  91.0   NaN    NaN    NaN  \n31    NaN    NaN   NaN   NaN   91.0   NaN  52.0    NaN    NaN  \n32    NaN    NaN   NaN   NaN    NaN  52.0   NaN   42.0    NaN  \n33    NaN    NaN   NaN   NaN    NaN   NaN  42.0    NaN   41.0  \n34  102.0    NaN   NaN   NaN    NaN   NaN   NaN   41.0    NaN  \n\n[34 rows x 34 columns]",
      "text/html": "<div>\n<style scoped>\n    .dataframe tbody tr th:only-of-type {\n        vertical-align: middle;\n    }\n\n    .dataframe tbody tr th {\n        vertical-align: top;\n    }\n\n    .dataframe thead th {\n        text-align: right;\n    }\n</style>\n<table border=\"1\" class=\"dataframe\">\n  <thead>\n    <tr style=\"text-align: right;\">\n      <th></th>\n      <th>1</th>\n      <th>2</th>\n      <th>3</th>\n      <th>4</th>\n      <th>5</th>\n      <th>6</th>\n      <th>7</th>\n      <th>8</th>\n      <th>9</th>\n      <th>10</th>\n      <th>...</th>\n      <th>25</th>\n      <th>26</th>\n      <th>27</th>\n      <th>28</th>\n      <th>29</th>\n      <th>30</th>\n      <th>31</th>\n      <th>32</th>\n      <th>33</th>\n      <th>34</th>\n    </tr>\n  </thead>\n  <tbody>\n    <tr>\n      <th>1</th>\n      <td>NaN</td>\n      <td>41.0</td>\n      <td>NaN</td>\n      <td>NaN</td>\n      <td>44.0</td>\n      <td>NaN</td>\n      <td>96.0</td>\n      <td>NaN</td>\n      <td>NaN</td>\n      <td>NaN</td>\n      <td>...</td>\n      <td>NaN</td>\n      <td>NaN</td>\n      <td>NaN</td>\n      <td>NaN</td>\n      <td>NaN</td>\n      <td>NaN</td>\n      <td>NaN</td>\n      <td>NaN</td>\n      <td>NaN</td>\n      <td>NaN</td>\n    </tr>\n    <tr>\n      <th>2</th>\n      <td>41.0</td>\n      <td>NaN</td>\n      <td>39.0</td>\n      <td>NaN</td>\n      <td>48.0</td>\n      <td>NaN</td>\n      <td>NaN</td>\n      <td>NaN</td>\n      <td>NaN</td>\n      <td>NaN</td>\n      <td>...</td>\n      <td>NaN</td>\n      <td>NaN</td>\n      <td>NaN</td>\n      <td>NaN</td>\n      <td>NaN</td>\n      <td>NaN</td>\n      <td>NaN</td>\n      <td>NaN</td>\n      <td>NaN</td>\n      <td>NaN</td>\n    </tr>\n    <tr>\n      <th>3</th>\n      <td>NaN</td>\n      <td>39.0</td>\n      <td>NaN</td>\n      <td>43.0</td>\n      <td>NaN</td>\n      <td>47.0</td>\n      <td>NaN</td>\n      <td>NaN</td>\n      <td>NaN</td>\n      <td>NaN</td>\n      <td>...</td>\n      <td>NaN</td>\n      <td>NaN</td>\n      <td>NaN</td>\n      <td>NaN</td>\n      <td>NaN</td>\n      <td>NaN</td>\n      <td>NaN</td>\n      <td>NaN</td>\n      <td>NaN</td>\n      <td>NaN</td>\n    </tr>\n    <tr>\n      <th>4</th>\n      <td>NaN</td>\n      <td>NaN</td>\n      <td>43.0</td>\n      <td>NaN</td>\n      <td>NaN</td>\n      <td>46.0</td>\n      <td>NaN</td>\n      <td>NaN</td>\n      <td>129.0</td>\n      <td>177.0</td>\n      <td>...</td>\n      <td>NaN</td>\n      <td>NaN</td>\n      <td>NaN</td>\n      <td>NaN</td>\n      <td>NaN</td>\n      <td>NaN</td>\n      <td>NaN</td>\n      <td>NaN</td>\n      <td>NaN</td>\n      <td>NaN</td>\n    </tr>\n    <tr>\n      <th>5</th>\n      <td>44.0</td>\n      <td>48.0</td>\n      <td>NaN</td>\n      <td>NaN</td>\n      <td>NaN</td>\n      <td>41.0</td>\n      <td>83.0</td>\n      <td>70.0</td>\n      <td>NaN</td>\n      <td>NaN</td>\n      <td>...</td>\n      <td>NaN</td>\n      <td>NaN</td>\n      <td>NaN</td>\n      <td>NaN</td>\n      <td>NaN</td>\n      <td>NaN</td>\n      <td>NaN</td>\n      <td>NaN</td>\n      <td>NaN</td>\n      <td>NaN</td>\n    </tr>\n    <tr>\n      <th>6</th>\n      <td>NaN</td>\n      <td>NaN</td>\n      <td>47.0</td>\n      <td>46.0</td>\n      <td>41.0</td>\n      <td>NaN</td>\n      <td>NaN</td>\n      <td>82.0</td>\n      <td>99.0</td>\n      <td>NaN</td>\n      <td>...</td>\n      <td>NaN</td>\n      <td>NaN</td>\n      <td>NaN</td>\n      <td>NaN</td>\n      <td>NaN</td>\n      <td>NaN</td>\n      <td>NaN</td>\n      <td>NaN</td>\n      <td>NaN</td>\n      <td>NaN</td>\n    </tr>\n    <tr>\n      <th>7</th>\n      <td>96.0</td>\n      <td>NaN</td>\n      <td>NaN</td>\n      <td>NaN</td>\n      <td>83.0</td>\n      <td>NaN</td>\n      <td>NaN</td>\n      <td>37.0</td>\n      <td>NaN</td>\n      <td>NaN</td>\n      <td>...</td>\n      <td>NaN</td>\n      <td>NaN</td>\n      <td>NaN</td>\n      <td>NaN</td>\n      <td>NaN</td>\n      <td>NaN</td>\n      <td>NaN</td>\n      <td>NaN</td>\n      <td>NaN</td>\n      <td>NaN</td>\n    </tr>\n    <tr>\n      <th>8</th>\n      <td>NaN</td>\n      <td>NaN</td>\n      <td>NaN</td>\n      <td>NaN</td>\n      <td>70.0</td>\n      <td>82.0</td>\n      <td>37.0</td>\n      <td>NaN</td>\n      <td>53.0</td>\n      <td>NaN</td>\n      <td>...</td>\n      <td>NaN</td>\n      <td>NaN</td>\n      <td>NaN</td>\n      <td>NaN</td>\n      <td>NaN</td>\n      <td>NaN</td>\n      <td>NaN</td>\n      <td>NaN</td>\n      <td>NaN</td>\n      <td>NaN</td>\n    </tr>\n    <tr>\n      <th>9</th>\n      <td>NaN</td>\n      <td>NaN</td>\n      <td>NaN</td>\n      <td>129.0</td>\n      <td>NaN</td>\n      <td>99.0</td>\n      <td>NaN</td>\n      <td>53.0</td>\n      <td>NaN</td>\n      <td>63.0</td>\n      <td>...</td>\n      <td>NaN</td>\n      <td>NaN</td>\n      <td>NaN</td>\n      <td>NaN</td>\n      <td>NaN</td>\n      <td>NaN</td>\n      <td>NaN</td>\n      <td>NaN</td>\n      <td>NaN</td>\n      <td>NaN</td>\n    </tr>\n    <tr>\n      <th>10</th>\n      <td>NaN</td>\n      <td>NaN</td>\n      <td>NaN</td>\n      <td>177.0</td>\n      <td>NaN</td>\n      <td>NaN</td>\n      <td>NaN</td>\n      <td>NaN</td>\n      <td>63.0</td>\n      <td>NaN</td>\n      <td>...</td>\n      <td>NaN</td>\n      <td>NaN</td>\n      <td>NaN</td>\n      <td>NaN</td>\n      <td>NaN</td>\n      <td>NaN</td>\n      <td>NaN</td>\n      <td>NaN</td>\n      <td>NaN</td>\n      <td>NaN</td>\n    </tr>\n    <tr>\n      <th>11</th>\n      <td>NaN</td>\n      <td>NaN</td>\n      <td>NaN</td>\n      <td>NaN</td>\n      <td>NaN</td>\n      <td>NaN</td>\n      <td>NaN</td>\n      <td>NaN</td>\n      <td>NaN</td>\n      <td>NaN</td>\n      <td>...</td>\n      <td>NaN</td>\n      <td>NaN</td>\n      <td>NaN</td>\n      <td>NaN</td>\n      <td>NaN</td>\n      <td>NaN</td>\n      <td>NaN</td>\n      <td>NaN</td>\n      <td>NaN</td>\n      <td>NaN</td>\n    </tr>\n    <tr>\n      <th>12</th>\n      <td>NaN</td>\n      <td>NaN</td>\n      <td>NaN</td>\n      <td>NaN</td>\n      <td>NaN</td>\n      <td>NaN</td>\n      <td>NaN</td>\n      <td>NaN</td>\n      <td>NaN</td>\n      <td>NaN</td>\n      <td>...</td>\n      <td>NaN</td>\n      <td>NaN</td>\n      <td>NaN</td>\n      <td>NaN</td>\n      <td>NaN</td>\n      <td>NaN</td>\n      <td>NaN</td>\n      <td>NaN</td>\n      <td>NaN</td>\n      <td>NaN</td>\n    </tr>\n    <tr>\n      <th>13</th>\n      <td>NaN</td>\n      <td>NaN</td>\n      <td>NaN</td>\n      <td>NaN</td>\n      <td>NaN</td>\n      <td>NaN</td>\n      <td>53.0</td>\n      <td>NaN</td>\n      <td>NaN</td>\n      <td>NaN</td>\n      <td>...</td>\n      <td>NaN</td>\n      <td>NaN</td>\n      <td>NaN</td>\n      <td>NaN</td>\n      <td>NaN</td>\n      <td>NaN</td>\n      <td>NaN</td>\n      <td>NaN</td>\n      <td>NaN</td>\n      <td>NaN</td>\n    </tr>\n    <tr>\n      <th>14</th>\n      <td>NaN</td>\n      <td>NaN</td>\n      <td>NaN</td>\n      <td>NaN</td>\n      <td>NaN</td>\n      <td>NaN</td>\n      <td>50.0</td>\n      <td>NaN</td>\n      <td>NaN</td>\n      <td>NaN</td>\n      <td>...</td>\n      <td>NaN</td>\n      <td>NaN</td>\n      <td>NaN</td>\n      <td>NaN</td>\n      <td>NaN</td>\n      <td>NaN</td>\n      <td>NaN</td>\n      <td>NaN</td>\n      <td>NaN</td>\n      <td>NaN</td>\n    </tr>\n    <tr>\n      <th>15</th>\n      <td>NaN</td>\n      <td>NaN</td>\n      <td>NaN</td>\n      <td>NaN</td>\n      <td>NaN</td>\n      <td>NaN</td>\n      <td>NaN</td>\n      <td>62.0</td>\n      <td>60.0</td>\n      <td>NaN</td>\n      <td>...</td>\n      <td>NaN</td>\n      <td>NaN</td>\n      <td>NaN</td>\n      <td>NaN</td>\n      <td>NaN</td>\n      <td>NaN</td>\n      <td>NaN</td>\n      <td>NaN</td>\n      <td>NaN</td>\n      <td>NaN</td>\n    </tr>\n    <tr>\n      <th>16</th>\n      <td>NaN</td>\n      <td>NaN</td>\n      <td>NaN</td>\n      <td>NaN</td>\n      <td>NaN</td>\n      <td>NaN</td>\n      <td>NaN</td>\n      <td>NaN</td>\n      <td>189.0</td>\n      <td>156.0</td>\n      <td>...</td>\n      <td>NaN</td>\n      <td>NaN</td>\n      <td>NaN</td>\n      <td>NaN</td>\n      <td>NaN</td>\n      <td>NaN</td>\n      <td>NaN</td>\n      <td>NaN</td>\n      <td>NaN</td>\n      <td>NaN</td>\n    </tr>\n    <tr>\n      <th>17</th>\n      <td>NaN</td>\n      <td>NaN</td>\n      <td>NaN</td>\n      <td>NaN</td>\n      <td>NaN</td>\n      <td>NaN</td>\n      <td>NaN</td>\n      <td>NaN</td>\n      <td>NaN</td>\n      <td>147.0</td>\n      <td>...</td>\n      <td>73.0</td>\n      <td>76.0</td>\n      <td>NaN</td>\n      <td>NaN</td>\n      <td>NaN</td>\n      <td>NaN</td>\n      <td>NaN</td>\n      <td>NaN</td>\n      <td>NaN</td>\n      <td>NaN</td>\n    </tr>\n    <tr>\n      <th>18</th>\n      <td>NaN</td>\n      <td>NaN</td>\n      <td>NaN</td>\n      <td>NaN</td>\n      <td>NaN</td>\n      <td>NaN</td>\n      <td>NaN</td>\n      <td>NaN</td>\n      <td>NaN</td>\n      <td>NaN</td>\n      <td>...</td>\n      <td>NaN</td>\n      <td>NaN</td>\n      <td>100.0</td>\n      <td>NaN</td>\n      <td>NaN</td>\n      <td>NaN</td>\n      <td>NaN</td>\n      <td>NaN</td>\n      <td>NaN</td>\n      <td>NaN</td>\n    </tr>\n    <tr>\n      <th>19</th>\n      <td>NaN</td>\n      <td>NaN</td>\n      <td>NaN</td>\n      <td>NaN</td>\n      <td>NaN</td>\n      <td>NaN</td>\n      <td>NaN</td>\n      <td>NaN</td>\n      <td>NaN</td>\n      <td>NaN</td>\n      <td>...</td>\n      <td>NaN</td>\n      <td>NaN</td>\n      <td>106.0</td>\n      <td>92.0</td>\n      <td>88.0</td>\n      <td>NaN</td>\n      <td>NaN</td>\n      <td>NaN</td>\n      <td>NaN</td>\n      <td>NaN</td>\n    </tr>\n    <tr>\n      <th>20</th>\n      <td>NaN</td>\n      <td>NaN</td>\n      <td>NaN</td>\n      <td>NaN</td>\n      <td>NaN</td>\n      <td>NaN</td>\n      <td>NaN</td>\n      <td>NaN</td>\n      <td>NaN</td>\n      <td>NaN</td>\n      <td>...</td>\n      <td>NaN</td>\n      <td>NaN</td>\n      <td>NaN</td>\n      <td>NaN</td>\n      <td>85.0</td>\n      <td>NaN</td>\n      <td>NaN</td>\n      <td>NaN</td>\n      <td>NaN</td>\n      <td>NaN</td>\n    </tr>\n    <tr>\n      <th>21</th>\n      <td>NaN</td>\n      <td>NaN</td>\n      <td>NaN</td>\n      <td>NaN</td>\n      <td>NaN</td>\n      <td>NaN</td>\n      <td>NaN</td>\n      <td>NaN</td>\n      <td>NaN</td>\n      <td>NaN</td>\n      <td>...</td>\n      <td>NaN</td>\n      <td>NaN</td>\n      <td>NaN</td>\n      <td>NaN</td>\n      <td>93.0</td>\n      <td>113.0</td>\n      <td>NaN</td>\n      <td>NaN</td>\n      <td>NaN</td>\n      <td>NaN</td>\n    </tr>\n    <tr>\n      <th>22</th>\n      <td>NaN</td>\n      <td>NaN</td>\n      <td>NaN</td>\n      <td>NaN</td>\n      <td>NaN</td>\n      <td>NaN</td>\n      <td>NaN</td>\n      <td>NaN</td>\n      <td>NaN</td>\n      <td>NaN</td>\n      <td>...</td>\n      <td>NaN</td>\n      <td>NaN</td>\n      <td>NaN</td>\n      <td>NaN</td>\n      <td>NaN</td>\n      <td>114.0</td>\n      <td>73.0</td>\n      <td>NaN</td>\n      <td>NaN</td>\n      <td>NaN</td>\n    </tr>\n    <tr>\n      <th>23</th>\n      <td>NaN</td>\n      <td>NaN</td>\n      <td>NaN</td>\n      <td>NaN</td>\n      <td>NaN</td>\n      <td>NaN</td>\n      <td>NaN</td>\n      <td>NaN</td>\n      <td>NaN</td>\n      <td>NaN</td>\n      <td>...</td>\n      <td>NaN</td>\n      <td>NaN</td>\n      <td>NaN</td>\n      <td>NaN</td>\n      <td>NaN</td>\n      <td>NaN</td>\n      <td>59.0</td>\n      <td>NaN</td>\n      <td>NaN</td>\n      <td>NaN</td>\n    </tr>\n    <tr>\n      <th>24</th>\n      <td>NaN</td>\n      <td>NaN</td>\n      <td>NaN</td>\n      <td>NaN</td>\n      <td>NaN</td>\n      <td>NaN</td>\n      <td>NaN</td>\n      <td>NaN</td>\n      <td>NaN</td>\n      <td>NaN</td>\n      <td>...</td>\n      <td>35.0</td>\n      <td>NaN</td>\n      <td>NaN</td>\n      <td>NaN</td>\n      <td>NaN</td>\n      <td>NaN</td>\n      <td>74.0</td>\n      <td>92.0</td>\n      <td>NaN</td>\n      <td>NaN</td>\n    </tr>\n    <tr>\n      <th>25</th>\n      <td>NaN</td>\n      <td>NaN</td>\n      <td>NaN</td>\n      <td>NaN</td>\n      <td>NaN</td>\n      <td>NaN</td>\n      <td>NaN</td>\n      <td>NaN</td>\n      <td>NaN</td>\n      <td>NaN</td>\n      <td>...</td>\n      <td>NaN</td>\n      <td>50.0</td>\n      <td>NaN</td>\n      <td>NaN</td>\n      <td>NaN</td>\n      <td>NaN</td>\n      <td>NaN</td>\n      <td>NaN</td>\n      <td>103.0</td>\n      <td>NaN</td>\n    </tr>\n    <tr>\n      <th>26</th>\n      <td>NaN</td>\n      <td>NaN</td>\n      <td>NaN</td>\n      <td>NaN</td>\n      <td>NaN</td>\n      <td>NaN</td>\n      <td>NaN</td>\n      <td>NaN</td>\n      <td>NaN</td>\n      <td>NaN</td>\n      <td>...</td>\n      <td>50.0</td>\n      <td>NaN</td>\n      <td>NaN</td>\n      <td>NaN</td>\n      <td>NaN</td>\n      <td>NaN</td>\n      <td>NaN</td>\n      <td>NaN</td>\n      <td>NaN</td>\n      <td>102.0</td>\n    </tr>\n    <tr>\n      <th>27</th>\n      <td>NaN</td>\n      <td>NaN</td>\n      <td>NaN</td>\n      <td>NaN</td>\n      <td>NaN</td>\n      <td>NaN</td>\n      <td>NaN</td>\n      <td>NaN</td>\n      <td>NaN</td>\n      <td>NaN</td>\n      <td>...</td>\n      <td>NaN</td>\n      <td>NaN</td>\n      <td>NaN</td>\n      <td>50.0</td>\n      <td>NaN</td>\n      <td>NaN</td>\n      <td>NaN</td>\n      <td>NaN</td>\n      <td>NaN</td>\n      <td>NaN</td>\n    </tr>\n    <tr>\n      <th>28</th>\n      <td>NaN</td>\n      <td>NaN</td>\n      <td>NaN</td>\n      <td>NaN</td>\n      <td>NaN</td>\n      <td>NaN</td>\n      <td>NaN</td>\n      <td>NaN</td>\n      <td>NaN</td>\n      <td>NaN</td>\n      <td>...</td>\n      <td>NaN</td>\n      <td>NaN</td>\n      <td>50.0</td>\n      <td>NaN</td>\n      <td>41.0</td>\n      <td>NaN</td>\n      <td>NaN</td>\n      <td>NaN</td>\n      <td>NaN</td>\n      <td>NaN</td>\n    </tr>\n    <tr>\n      <th>29</th>\n      <td>NaN</td>\n      <td>NaN</td>\n      <td>NaN</td>\n      <td>NaN</td>\n      <td>NaN</td>\n      <td>NaN</td>\n      <td>NaN</td>\n      <td>NaN</td>\n      <td>NaN</td>\n      <td>NaN</td>\n      <td>...</td>\n      <td>NaN</td>\n      <td>NaN</td>\n      <td>NaN</td>\n      <td>41.0</td>\n      <td>NaN</td>\n      <td>56.0</td>\n      <td>NaN</td>\n      <td>NaN</td>\n      <td>NaN</td>\n      <td>NaN</td>\n    </tr>\n    <tr>\n      <th>30</th>\n      <td>NaN</td>\n      <td>NaN</td>\n      <td>NaN</td>\n      <td>NaN</td>\n      <td>NaN</td>\n      <td>NaN</td>\n      <td>NaN</td>\n      <td>NaN</td>\n      <td>NaN</td>\n      <td>NaN</td>\n      <td>...</td>\n      <td>NaN</td>\n      <td>NaN</td>\n      <td>NaN</td>\n      <td>NaN</td>\n      <td>56.0</td>\n      <td>NaN</td>\n      <td>91.0</td>\n      <td>NaN</td>\n      <td>NaN</td>\n      <td>NaN</td>\n    </tr>\n    <tr>\n      <th>31</th>\n      <td>NaN</td>\n      <td>NaN</td>\n      <td>NaN</td>\n      <td>NaN</td>\n      <td>NaN</td>\n      <td>NaN</td>\n      <td>NaN</td>\n      <td>NaN</td>\n      <td>NaN</td>\n      <td>NaN</td>\n      <td>...</td>\n      <td>NaN</td>\n      <td>NaN</td>\n      <td>NaN</td>\n      <td>NaN</td>\n      <td>NaN</td>\n      <td>91.0</td>\n      <td>NaN</td>\n      <td>52.0</td>\n      <td>NaN</td>\n      <td>NaN</td>\n    </tr>\n    <tr>\n      <th>32</th>\n      <td>NaN</td>\n      <td>NaN</td>\n      <td>NaN</td>\n      <td>NaN</td>\n      <td>NaN</td>\n      <td>NaN</td>\n      <td>NaN</td>\n      <td>NaN</td>\n      <td>NaN</td>\n      <td>NaN</td>\n      <td>...</td>\n      <td>NaN</td>\n      <td>NaN</td>\n      <td>NaN</td>\n      <td>NaN</td>\n      <td>NaN</td>\n      <td>NaN</td>\n      <td>52.0</td>\n      <td>NaN</td>\n      <td>42.0</td>\n      <td>NaN</td>\n    </tr>\n    <tr>\n      <th>33</th>\n      <td>NaN</td>\n      <td>NaN</td>\n      <td>NaN</td>\n      <td>NaN</td>\n      <td>NaN</td>\n      <td>NaN</td>\n      <td>NaN</td>\n      <td>NaN</td>\n      <td>NaN</td>\n      <td>NaN</td>\n      <td>...</td>\n      <td>103.0</td>\n      <td>NaN</td>\n      <td>NaN</td>\n      <td>NaN</td>\n      <td>NaN</td>\n      <td>NaN</td>\n      <td>NaN</td>\n      <td>42.0</td>\n      <td>NaN</td>\n      <td>41.0</td>\n    </tr>\n    <tr>\n      <th>34</th>\n      <td>NaN</td>\n      <td>NaN</td>\n      <td>NaN</td>\n      <td>NaN</td>\n      <td>NaN</td>\n      <td>NaN</td>\n      <td>NaN</td>\n      <td>NaN</td>\n      <td>NaN</td>\n      <td>NaN</td>\n      <td>...</td>\n      <td>NaN</td>\n      <td>102.0</td>\n      <td>NaN</td>\n      <td>NaN</td>\n      <td>NaN</td>\n      <td>NaN</td>\n      <td>NaN</td>\n      <td>NaN</td>\n      <td>41.0</td>\n      <td>NaN</td>\n    </tr>\n  </tbody>\n</table>\n<p>34 rows × 34 columns</p>\n</div>"
     },
     "metadata": {},
     "execution_count": 2
    }
   ],
   "source": [
    "# 导入图的邻接矩阵，其中没有边的元素为空\n",
    "Vmat = pd.read_excel(\"./图邻接矩阵.xlsx\")\n",
    "Vmat = Vmat.drop([\"Unnamed: 0\"], axis = 1)\n",
    "Vmat.index += 1\n",
    "for i in range(1, Vmat.shape[0]+1):\n",
    "    for j in range(i+1, Vmat.shape[1]+1):\n",
    "        Vmat[i][j] = Vmat[j][i]\n",
    "\n",
    "Vmat"
   ]
  },
  {
   "cell_type": "code",
   "execution_count": 3,
   "metadata": {
    "tags": []
   },
   "outputs": [
    {
     "output_type": "stream",
     "name": "stdout",
     "text": "图中73条边三元组:\n\n [[1, 2, 41.0], [1, 5, 44.0], [1, 7, 96.0], [2, 3, 39.0], [2, 5, 48.0], [3, 4, 43.0], [3, 6, 47.0], [4, 6, 46.0], [4, 9, 129.0], [4, 10, 177.0], [5, 6, 41.0], [5, 7, 83.0], [5, 8, 70.0], [6, 8, 82.0], [6, 9, 99.0], [7, 8, 37.0], [7, 13, 53.0], [7, 14, 50.0], [8, 9, 53.0], [8, 15, 62.0], [9, 10, 63.0], [9, 15, 60.0], [9, 16, 189.0], [10, 16, 156.0], [10, 17, 147.0], [11, 12, 38.0], [11, 18, 259.0], [12, 13, 44.0], [12, 19, 261.0], [13, 14, 48.0], [13, 20, 252.0], [13, 21, 245.0], [14, 15, 34.0], [14, 20, 247.0], [14, 21, 235.0], [14, 22, 233.0], [15, 16, 143.0], [15, 22, 233.0], [16, 17, 70.0], [16, 22, 98.0], [16, 23, 83.0], [16, 24, 81.0], [17, 25, 73.0], [17, 26, 76.0], [18, 19, 52.0], [18, 27, 100.0], [19, 20, 42.0], [19, 27, 106.0], [19, 28, 92.0], [19, 29, 88.0], [20, 21, 31.0], [20, 29, 85.0], [21, 22, 34.0], [21, 29, 93.0], [21, 30, 113.0], [22, 23, 34.0], [22, 30, 114.0], [22, 31, 73.0], [23, 24, 50.0], [23, 31, 59.0], [24, 25, 35.0], [24, 31, 74.0], [24, 32, 92.0], [25, 26, 50.0], [25, 33, 103.0], [26, 34, 102.0], [27, 28, 50.0], [28, 29, 41.0], [29, 30, 56.0], [30, 31, 91.0], [31, 32, 52.0], [32, 33, 42.0], [33, 34, 41.0]]\n"
    }
   ],
   "source": [
    "# 转换为三元组形式存储图结构\n",
    "Edge = []\n",
    "for i in range(1, Vmat.shape[0]+1):\n",
    "    for j in range(i+1, Vmat.shape[1]+1):\n",
    "        if pd.isnull(Vmat[i][j]) == False:\n",
    "            Edge.append([i, j, Vmat[i][j]])\n",
    "print(\"图中73条边三元组:\\n\\n\", Edge)"
   ]
  },
  {
   "cell_type": "code",
   "execution_count": 4,
   "metadata": {},
   "outputs": [],
   "source": [
    "# Graph1类中包含基础的Kruskal和Prim算法\n",
    "class Graph1(object):\n",
    "    def __init__(self, maps):\n",
    "        self.maps = maps\n",
    "        self.nodenum = self.get_nodenum()\n",
    "        self.edgenum = self.get_edgenum()\n",
    " \n",
    "    # 计算顶点数\n",
    "    def get_nodenum(self):\n",
    "        return len(self.maps)\n",
    "    \n",
    "    # 计算边数\n",
    "    def get_edgenum(self):\n",
    "        count = 0\n",
    "        for i in range(self.nodenum):\n",
    "            for j in range(i):\n",
    "                if self.maps[i][j] > 0 and np.isnan(self.maps[i][j]) == False:\n",
    "                    count += 1\n",
    "        return count\n",
    "\n",
    "    # 基础Kruskal算法实现\n",
    "    def kruskal(self):\n",
    "        res = []\n",
    "        if self.nodenum <= 0 or self.edgenum < self.nodenum-1:\n",
    "            return res\n",
    "        # 将各条边定点和边的信息加入edge_list中\n",
    "        edge_list = []\n",
    "        for i in range(self.nodenum):\n",
    "            for j in range(i,self.nodenum):\n",
    "                if np.isnan(self.maps[i][j]) == False:\n",
    "                    edge_list.append([i+1, j+1, self.maps[i][j]])\n",
    "        # 将各条边按权重排序\n",
    "        edge_list.sort(key = lambda a:a[2])\n",
    "        \n",
    "        group = [[i+1] for i in range(self.nodenum)]\n",
    "        for edge in edge_list:\n",
    "            for i in range(1, len(group)+1):\n",
    "                if edge[0] in group[i-1]:\n",
    "                    m = i-1\n",
    "                if edge[1] in group[i-1]:\n",
    "                    n = i-1\n",
    "            \n",
    "            # 若不构成回路则添加边，并将结点标记为已遍历\n",
    "            if m != n:\n",
    "                res.append(edge)\n",
    "                group[m] = group[m] + group[n]\n",
    "                group[n] = []\n",
    "        return res\n",
    "    \n",
    "    # Prim算法实现\n",
    "    def prim(self):\n",
    "        res = []\n",
    "        if self.nodenum <= 0 or self.edgenum < self.nodenum-1:\n",
    "            return res\n",
    "        res = []\n",
    "        seleted_node = [0]\n",
    "        candidate_node = [i for i in range(1, self.nodenum)]\n",
    "        \n",
    "        # 循环逐步查找每个状态下的最小权值边\n",
    "        while len(candidate_node) > 0:\n",
    "            begin, end, minweight = 0, 0, 99999\n",
    "            for i in seleted_node:\n",
    "                for j in candidate_node:\n",
    "\n",
    "                    # 选择当前状态最小权值的边\n",
    "                    if self.maps[i][j] < minweight:\n",
    "                        minweight = self.maps[i][j]\n",
    "                        begin = i\n",
    "                        end = j\n",
    "\n",
    "            res.append([begin+1, end+1, minweight]) # 将当前最小权值边添加到最小生成树中\n",
    "            seleted_node.append(end) # 将该顶点标记为已遍历\n",
    "            candidate_node.remove(end) # 将该顶点移出带遍历集合\n",
    "        return res"
   ]
  },
  {
   "cell_type": "code",
   "execution_count": 5,
   "metadata": {},
   "outputs": [],
   "source": [
    "# Graph2类中包含使用并查集优化的Kruskal算法\n",
    "class Graph2(object):\n",
    "    def __init__(self):\n",
    "        self.vertex = set()\n",
    "        self.edge = []\n",
    "\n",
    "    # 逐步添加边，u,v为边起始和终止顶点\n",
    "    def add_edge(self, u, v, w):\n",
    "        self.vertex.add(u)\n",
    "        self.vertex.add(v)\n",
    "        self.edge.append([u, v, w])\n",
    "\n",
    "    # 使用循环查找父节点\n",
    "    # 用parent来表示当前索引元素的祖先\n",
    "    def find_parent(self, parent, i):\n",
    "        j = i \n",
    "        while parent[j] != j:\n",
    "            j = parent[j]\n",
    "        x = i\n",
    "        while x != j:\n",
    "            y = parent[x]\n",
    "            parent[x] = j\n",
    "            x = y\n",
    "        return x\n",
    "\n",
    "    # 集合合并算法\n",
    "    def union(self, parent, rank, x, y):\n",
    "        x_set_flag = self.find_parent(parent, x)\n",
    "        y_set_flag = self.find_parent(parent, y)\n",
    "        \n",
    "        # 选择大集合的树作为祖先以提高效率\n",
    "        if rank[x_set_flag] < rank[y_set_flag]:\n",
    "            parent[x_set_flag] = y_set_flag\n",
    "        else:\n",
    "            if rank[x_set_flag] == rank[y_set_flag]:\n",
    "                # 若集合大小相等，则秩+1\n",
    "                rank[x_set_flag] += 1\n",
    "            parent[y_set_flag] = x_set_flag            \n",
    "\n",
    "    # kruskal求最小生成树\n",
    "    def kruskal_union_find(self):\n",
    "        result = []\n",
    "        i = 0\n",
    "        e = 0\n",
    "        # 将各条边按权重排序\n",
    "        self.edge = sorted(self.edge, key=lambda x: x[2])\n",
    "        parent = []\n",
    "        rank = []\n",
    "        for v in range(len(self.vertex)):\n",
    "            parent.append(v)\n",
    "            rank.append(0)\n",
    "\n",
    "        while e < len(self.vertex) - 1:\n",
    "            u, v, w = self.edge[i]\n",
    "            i += 1\n",
    "\n",
    "            x = self.find_parent(parent, u)\n",
    "            y = self.find_parent(parent, v)\n",
    "\n",
    "            # 不在一个集合中说明没有回路，则添加边\n",
    "            if x != y: \n",
    "                e = e + 1\n",
    "                result.append([u+1, v+1, w])\n",
    "                self.union(parent, rank, x, y)  # 合并集合\n",
    "        return result"
   ]
  },
  {
   "cell_type": "code",
   "execution_count": 6,
   "metadata": {
    "tags": []
   },
   "outputs": [
    {
     "output_type": "stream",
     "name": "stdout",
     "text": "Kruskal算法结果:\n [[20, 21, 31.0], [14, 15, 34.0], [21, 22, 34.0], [22, 23, 34.0], [24, 25, 35.0], [7, 8, 37.0], [11, 12, 38.0], [2, 3, 39.0], [1, 2, 41.0], [5, 6, 41.0], [28, 29, 41.0], [33, 34, 41.0], [19, 20, 42.0], [32, 33, 42.0], [3, 4, 43.0], [1, 5, 44.0], [12, 13, 44.0], [13, 14, 48.0], [7, 14, 50.0], [23, 24, 50.0], [25, 26, 50.0], [27, 28, 50.0], [18, 19, 52.0], [31, 32, 52.0], [8, 9, 53.0], [29, 30, 56.0], [23, 31, 59.0], [9, 10, 63.0], [5, 8, 70.0], [16, 17, 70.0], [17, 25, 73.0], [20, 29, 85.0], [15, 16, 143.0]]\n\nPrim算法结果:\n [[1, 2, 41.0], [2, 3, 39.0], [3, 4, 43.0], [1, 5, 44.0], [5, 6, 41.0], [5, 8, 70.0], [8, 7, 37.0], [7, 14, 50.0], [14, 15, 34.0], [14, 13, 48.0], [13, 12, 44.0], [12, 11, 38.0], [8, 9, 53.0], [9, 10, 63.0], [15, 16, 143.0], [16, 17, 70.0], [17, 25, 73.0], [25, 24, 35.0], [25, 26, 50.0], [24, 23, 50.0], [23, 22, 34.0], [22, 21, 34.0], [21, 20, 31.0], [20, 19, 42.0], [19, 18, 52.0], [23, 31, 59.0], [31, 32, 52.0], [32, 33, 42.0], [33, 34, 41.0], [20, 29, 85.0], [29, 28, 41.0], [28, 27, 50.0], [29, 30, 56.0]]\n"
    }
   ],
   "source": [
    "# 执行基础Kruskal算法和Prim算法\n",
    "graph = Graph1(np.array(Vmat))\n",
    "print(\"Kruskal算法结果:\\n\",graph.kruskal())\n",
    "print(\"\\nPrim算法结果:\\n\", graph.prim())"
   ]
  },
  {
   "cell_type": "code",
   "execution_count": 7,
   "metadata": {
    "tags": []
   },
   "outputs": [
    {
     "output_type": "stream",
     "name": "stdout",
     "text": "Kruskal算法+并查集优化结果:\n [[20, 21, 31.0], [14, 15, 34.0], [21, 22, 34.0], [22, 23, 34.0], [24, 25, 35.0], [7, 8, 37.0], [11, 12, 38.0], [2, 3, 39.0], [1, 2, 41.0], [5, 6, 41.0], [28, 29, 41.0], [33, 34, 41.0], [19, 20, 42.0], [32, 33, 42.0], [3, 4, 43.0], [1, 5, 44.0], [12, 13, 44.0], [13, 14, 48.0], [7, 14, 50.0], [23, 24, 50.0], [25, 26, 50.0], [27, 28, 50.0], [18, 19, 52.0], [31, 32, 52.0], [8, 9, 53.0], [29, 30, 56.0], [23, 31, 59.0], [9, 10, 63.0], [5, 8, 70.0], [16, 17, 70.0], [17, 25, 73.0], [20, 29, 85.0], [15, 16, 143.0]]\n"
    }
   ],
   "source": [
    "# 执行经并查集优化的Kruskal算法\n",
    "g = Graph2()\n",
    "for e in Edge:\n",
    "    g.add_edge(e[0]-1, e[1]-1, e[2])\n",
    "mst = g.kruskal_union_find()\n",
    "print(\"Kruskal算法+并查集优化结果:\\n\", mst)"
   ]
  },
  {
   "cell_type": "code",
   "execution_count": 8,
   "metadata": {
    "tags": []
   },
   "outputs": [
    {
     "output_type": "stream",
     "name": "stdout",
     "text": "Kruskal算法时间：0.005985\nPrim算法时间：0.004982\nKruskal算法+并查集优化时间：0.000000\n"
    }
   ],
   "source": [
    "# 计算各种算法运行时间\n",
    "t0 = time.time()\n",
    "graph.kruskal()\n",
    "t1 = time.time()\n",
    "graph.prim()\n",
    "t2 = time.time()\n",
    "g.kruskal_union_find()\n",
    "t3 = time.time()\n",
    "print(\" Kruskal算法时间：{:.6f}\\nPrim算法时间：{:.6f}\\nKruskal算法+并查集优化时间：{:.6f}\".format(t1-t0, t2-t1, t3-t2))"
   ]
  }
 ],
 "metadata": {
  "language_info": {
   "codemirror_mode": {
    "name": "ipython",
    "version": 3
   },
   "file_extension": ".py",
   "mimetype": "text/x-python",
   "name": "python",
   "nbconvert_exporter": "python",
   "pygments_lexer": "ipython3",
   "version": "3.7.6-final"
  },
  "orig_nbformat": 2,
  "kernelspec": {
   "name": "python36764bit041d7cde41394c5dbfcab2a1ffa675bc",
   "display_name": "Python 3.6.7 64-bit"
  }
 },
 "nbformat": 4,
 "nbformat_minor": 2
}